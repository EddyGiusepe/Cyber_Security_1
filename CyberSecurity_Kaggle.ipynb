{
  "nbformat": 4,
  "nbformat_minor": 0,
  "metadata": {
    "colab": {
      "name": "CyberSecurity_Kaggle.ipynb",
      "provenance": [],
      "machine_shape": "hm",
      "mount_file_id": "1JGprgCs2ppxsGojlXgSeI1jR52XMHIUq",
      "authorship_tag": "ABX9TyOIK5+uWD97uB/fQR9LCaY3",
      "include_colab_link": true
    },
    "kernelspec": {
      "name": "python3",
      "display_name": "Python 3"
    },
    "language_info": {
      "name": "python"
    },
    "accelerator": "TPU"
  },
  "cells": [
    {
      "cell_type": "markdown",
      "metadata": {
        "id": "view-in-github",
        "colab_type": "text"
      },
      "source": [
        "<a href=\"https://colab.research.google.com/github/EddyGiusepe/Cyber_Security_1/blob/main/CyberSecurity_Kaggle.ipynb\" target=\"_parent\"><img src=\"https://colab.research.google.com/assets/colab-badge.svg\" alt=\"Open In Colab\"/></a>"
      ]
    },
    {
      "cell_type": "markdown",
      "source": [
        "# <h2 align='center'>Cyber Security -- Kaggle</h2> \n",
        "\n",
        "\n",
        "**Data Scientist Jr.:**  Dr.Eddy Giusepe Chirinos Isidro\n"
      ],
      "metadata": {
        "id": "1lFAw-RhZloD"
      }
    },
    {
      "cell_type": "markdown",
      "source": [
        "Neste Script reproduziremos e exploraremos ataques cibernéticos. Basicamente temos Dados onde no último mês, alguns eventos de SEGURANÇA CIBERNÉTICA com durações e padrões diferentes foram registrados.\n",
        "\n",
        "\n",
        "Nesse sentido, podemos derivar:\n",
        "\n",
        "* Endereço de IP de destino mais direcionado,\n",
        "* A maioria das portas lógicas atacadas,\n",
        "* Tipo de ataque mais frequente/comum,\n",
        "* Hora diferente do dia (odd (estranho), horas, dia ou noite),\n",
        "* Encontrar um padrão.\n",
        "\n",
        "Este Script está baseado nos seguintes links:\n",
        "\n",
        "* [Cyber Security](https://www.kaggle.com/iamranjann/exploring-attacks-cybersec/notebook).\n",
        "* [Cyber Security no YouTube](https://www.youtube.com/watch?v=7q8XQSUeUPc&list=PLlUZLZydkS79ctBEkAqeNj5k0RNvAvvD7&index=1)."
      ],
      "metadata": {
        "id": "kvQ1rIZdZwCo"
      }
    },
    {
      "cell_type": "markdown",
      "source": [
        "## Importamos as nossas bibliotecas"
      ],
      "metadata": {
        "id": "Qnilj44zcrGf"
      }
    },
    {
      "cell_type": "code",
      "execution_count": 1,
      "metadata": {
        "id": "3pso9awEZXCT"
      },
      "outputs": [],
      "source": [
        "import pandas as pd\n",
        "import seaborn as sns\n",
        "import matplotlib.pyplot as plt\n",
        "import ipaddress\n",
        "import numpy as np\n",
        "from scipy import stats\n",
        "from scipy.stats import chi2_contingency\n",
        "from datetime import datetime, timedelta\n",
        "import math\n",
        "import missingno as msno\n",
        "plt.style.use('ggplot')\n",
        "import warnings\n",
        "warnings.filterwarnings('ignore') "
      ]
    },
    {
      "cell_type": "markdown",
      "source": [
        "## Carregamos nossos Dados de Cyber Security"
      ],
      "metadata": {
        "id": "5VppAR1yc-zl"
      }
    },
    {
      "cell_type": "code",
      "source": [
        "df = pd.read_csv(\"/content/drive/MyDrive/4_EDDY_ISH_TECNOLOGIA/3_Data_Science_Augusto_Eddy/Attacks CyberSecurity Kaggle/Cybersecurity_attacks.csv\")\n"
      ],
      "metadata": {
        "id": "f-fbGtZ8cwuK"
      },
      "execution_count": 2,
      "outputs": []
    },
    {
      "cell_type": "code",
      "source": [
        "df.shape"
      ],
      "metadata": {
        "colab": {
          "base_uri": "https://localhost:8080/"
        },
        "id": "jXSu3m5edoDJ",
        "outputId": "c2be5e6f-94a2-4db3-966b-f2b58b4221e9"
      },
      "execution_count": 3,
      "outputs": [
        {
          "output_type": "execute_result",
          "data": {
            "text/plain": [
              "(178031, 11)"
            ]
          },
          "metadata": {},
          "execution_count": 3
        }
      ]
    },
    {
      "cell_type": "code",
      "source": [
        "df.head(5)"
      ],
      "metadata": {
        "colab": {
          "base_uri": "https://localhost:8080/",
          "height": 302
        },
        "id": "EL3wblLhdrX8",
        "outputId": "4e2ec004-8e17-4fe0-fa4a-afe2f9125822"
      },
      "execution_count": 4,
      "outputs": [
        {
          "output_type": "execute_result",
          "data": {
            "text/html": [
              "<div>\n",
              "<style scoped>\n",
              "    .dataframe tbody tr th:only-of-type {\n",
              "        vertical-align: middle;\n",
              "    }\n",
              "\n",
              "    .dataframe tbody tr th {\n",
              "        vertical-align: top;\n",
              "    }\n",
              "\n",
              "    .dataframe thead th {\n",
              "        text-align: right;\n",
              "    }\n",
              "</style>\n",
              "<table border=\"1\" class=\"dataframe\">\n",
              "  <thead>\n",
              "    <tr style=\"text-align: right;\">\n",
              "      <th></th>\n",
              "      <th>Attack category</th>\n",
              "      <th>Attack subcategory</th>\n",
              "      <th>Protocol</th>\n",
              "      <th>Source IP</th>\n",
              "      <th>Source Port</th>\n",
              "      <th>Destination IP</th>\n",
              "      <th>Destination Port</th>\n",
              "      <th>Attack Name</th>\n",
              "      <th>Attack Reference</th>\n",
              "      <th>.</th>\n",
              "      <th>Time</th>\n",
              "    </tr>\n",
              "  </thead>\n",
              "  <tbody>\n",
              "    <tr>\n",
              "      <th>0</th>\n",
              "      <td>Reconnaissance</td>\n",
              "      <td>HTTP</td>\n",
              "      <td>tcp</td>\n",
              "      <td>175.45.176.0</td>\n",
              "      <td>13284</td>\n",
              "      <td>149.171.126.16</td>\n",
              "      <td>80</td>\n",
              "      <td>Domino Web Server Database Access: /doladmin.n...</td>\n",
              "      <td>-</td>\n",
              "      <td>.</td>\n",
              "      <td>1421927414-1421927416</td>\n",
              "    </tr>\n",
              "    <tr>\n",
              "      <th>1</th>\n",
              "      <td>Exploits</td>\n",
              "      <td>Unix 'r' Service</td>\n",
              "      <td>udp</td>\n",
              "      <td>175.45.176.3</td>\n",
              "      <td>21223</td>\n",
              "      <td>149.171.126.18</td>\n",
              "      <td>32780</td>\n",
              "      <td>Solaris rwalld Format String Vulnerability (ht...</td>\n",
              "      <td>CVE 2002-0573 (http://cve.mitre.org/cgi-bin/cv...</td>\n",
              "      <td>.</td>\n",
              "      <td>1421927415-1421927415</td>\n",
              "    </tr>\n",
              "    <tr>\n",
              "      <th>2</th>\n",
              "      <td>Exploits</td>\n",
              "      <td>Browser</td>\n",
              "      <td>tcp</td>\n",
              "      <td>175.45.176.2</td>\n",
              "      <td>23357</td>\n",
              "      <td>149.171.126.16</td>\n",
              "      <td>80</td>\n",
              "      <td>Windows Metafile (WMF) SetAbortProc() Code Exe...</td>\n",
              "      <td>CVE 2005-4560 (http://cve.mitre.org/cgi-bin/cv...</td>\n",
              "      <td>.</td>\n",
              "      <td>1421927416-1421927416</td>\n",
              "    </tr>\n",
              "    <tr>\n",
              "      <th>3</th>\n",
              "      <td>Exploits</td>\n",
              "      <td>Miscellaneous Batch</td>\n",
              "      <td>tcp</td>\n",
              "      <td>175.45.176.2</td>\n",
              "      <td>13792</td>\n",
              "      <td>149.171.126.16</td>\n",
              "      <td>5555</td>\n",
              "      <td>HP Data Protector Backup (https://strikecenter...</td>\n",
              "      <td>CVE 2011-1729 (http://cve.mitre.org/cgi-bin/cv...</td>\n",
              "      <td>.</td>\n",
              "      <td>1421927417-1421927417</td>\n",
              "    </tr>\n",
              "    <tr>\n",
              "      <th>4</th>\n",
              "      <td>Exploits</td>\n",
              "      <td>Cisco IOS</td>\n",
              "      <td>tcp</td>\n",
              "      <td>175.45.176.2</td>\n",
              "      <td>26939</td>\n",
              "      <td>149.171.126.10</td>\n",
              "      <td>80</td>\n",
              "      <td>Cisco IOS HTTP Authentication Bypass Level 64 ...</td>\n",
              "      <td>CVE 2001-0537 (http://cve.mitre.org/cgi-bin/cv...</td>\n",
              "      <td>.</td>\n",
              "      <td>1421927418-1421927418</td>\n",
              "    </tr>\n",
              "  </tbody>\n",
              "</table>\n",
              "</div>"
            ],
            "text/plain": [
              "  Attack category   Attack subcategory  ...  .                   Time\n",
              "0  Reconnaissance                 HTTP  ...  .  1421927414-1421927416\n",
              "1        Exploits     Unix 'r' Service  ...  .  1421927415-1421927415\n",
              "2        Exploits              Browser  ...  .  1421927416-1421927416\n",
              "3        Exploits  Miscellaneous Batch  ...  .  1421927417-1421927417\n",
              "4        Exploits           Cisco IOS   ...  .  1421927418-1421927418\n",
              "\n",
              "[5 rows x 11 columns]"
            ]
          },
          "metadata": {},
          "execution_count": 4
        }
      ]
    },
    {
      "cell_type": "code",
      "source": [
        "# Observamos que as nossas colunas são:\n",
        "\n",
        "df.columns"
      ],
      "metadata": {
        "colab": {
          "base_uri": "https://localhost:8080/"
        },
        "id": "oF6xPbzfducs",
        "outputId": "3ad35c17-ffa9-462e-f1fe-e98f3f37d6c4"
      },
      "execution_count": 5,
      "outputs": [
        {
          "output_type": "execute_result",
          "data": {
            "text/plain": [
              "Index(['Attack category', 'Attack subcategory', 'Protocol', 'Source IP',\n",
              "       'Source Port', 'Destination IP', 'Destination Port', 'Attack Name',\n",
              "       'Attack Reference', '.', 'Time'],\n",
              "      dtype='object')"
            ]
          },
          "metadata": {},
          "execution_count": 5
        }
      ]
    },
    {
      "cell_type": "code",
      "source": [
        ""
      ],
      "metadata": {
        "id": "_sZwEGmjeG9G"
      },
      "execution_count": null,
      "outputs": []
    }
  ]
}