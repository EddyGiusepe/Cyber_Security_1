{
  "nbformat": 4,
  "nbformat_minor": 0,
  "metadata": {
    "colab": {
      "name": "CyberSecurity_Kaggle.ipynb",
      "provenance": [],
      "machine_shape": "hm",
      "mount_file_id": "1JGprgCs2ppxsGojlXgSeI1jR52XMHIUq",
      "authorship_tag": "ABX9TyONCpaCMKX5I+IIHwV23IkG",
      "include_colab_link": true
    },
    "kernelspec": {
      "name": "python3",
      "display_name": "Python 3"
    },
    "language_info": {
      "name": "python"
    },
    "accelerator": "TPU"
  },
  "cells": [
    {
      "cell_type": "markdown",
      "metadata": {
        "id": "view-in-github",
        "colab_type": "text"
      },
      "source": [
        "<a href=\"https://colab.research.google.com/github/EddyGiusepe/Cyber_Security_1/blob/main/CyberSecurity_Kaggle.ipynb\" target=\"_parent\"><img src=\"https://colab.research.google.com/assets/colab-badge.svg\" alt=\"Open In Colab\"/></a>"
      ]
    },
    {
      "cell_type": "markdown",
      "source": [
        "# <h2 align='center'>Cyber Security -- Kaggle</h2> \n",
        "\n",
        "\n",
        "**Data Scientist Jr.:**  Dr.Eddy Giusepe Chirinos Isidro\n"
      ],
      "metadata": {
        "id": "1lFAw-RhZloD"
      }
    },
    {
      "cell_type": "markdown",
      "source": [
        "Neste Script reproduziremos e exploraremos ataques cibernéticos. Basicamente temos Dados onde no último mês, alguns eventos de SEGURANÇA CIBERNÉTICA com durações e padrões diferentes foram registrados.\n",
        "\n",
        "\n",
        "Nesse sentido, podemos derivar:\n",
        "\n",
        "* Endereço de IP de destino mais direcionado,\n",
        "* A maioria das portas lógicas atacadas,\n",
        "* Tipo de ataque mais frequente/comum,\n",
        "* Hora diferente do dia (odd (estranho), horas, dia ou noite),\n",
        "* Encontrar um padrão.\n",
        "\n",
        "Este Script está baseado nos seguintes links:\n",
        "\n",
        "* [Cyber Security](https://www.kaggle.com/iamranjann/exploring-attacks-cybersec/notebook).\n",
        "* [Cyber Security no YouTube](https://www.youtube.com/watch?v=7q8XQSUeUPc&list=PLlUZLZydkS79ctBEkAqeNj5k0RNvAvvD7&index=1)."
      ],
      "metadata": {
        "id": "kvQ1rIZdZwCo"
      }
    },
    {
      "cell_type": "markdown",
      "source": [
        "## Importamos as nossas bibliotecas"
      ],
      "metadata": {
        "id": "Qnilj44zcrGf"
      }
    },
    {
      "cell_type": "code",
      "execution_count": 1,
      "metadata": {
        "id": "3pso9awEZXCT"
      },
      "outputs": [],
      "source": [
        "import pandas as pd\n",
        "import seaborn as sns\n",
        "import matplotlib.pyplot as plt\n",
        "import ipaddress\n",
        "import numpy as np\n",
        "from scipy import stats\n",
        "from scipy.stats import chi2_contingency\n",
        "from datetime import datetime, timedelta\n",
        "import math\n",
        "import missingno as msno\n",
        "plt.style.use('ggplot')\n",
        "import warnings\n",
        "warnings.filterwarnings('ignore') "
      ]
    },
    {
      "cell_type": "markdown",
      "source": [
        "## Carregamos nossos Dados de Cyber Security"
      ],
      "metadata": {
        "id": "5VppAR1yc-zl"
      }
    },
    {
      "cell_type": "code",
      "source": [
        "df = pd.read_csv(\"/content/drive/MyDrive/3_EDDY_ISH_TECNOLOGIA/3_Data_Science_Augusto_Eddy/Attacks CyberSecurity Kaggle/Cybersecurity_attacks.csv\")\n"
      ],
      "metadata": {
        "id": "f-fbGtZ8cwuK"
      },
      "execution_count": 2,
      "outputs": []
    },
    {
      "cell_type": "code",
      "source": [
        "df.shape"
      ],
      "metadata": {
        "colab": {
          "base_uri": "https://localhost:8080/"
        },
        "id": "jXSu3m5edoDJ",
        "outputId": "46eab406-0c49-4b49-cc85-f1291fda025b"
      },
      "execution_count": 3,
      "outputs": [
        {
          "output_type": "execute_result",
          "data": {
            "text/plain": [
              "(178031, 11)"
            ]
          },
          "metadata": {},
          "execution_count": 3
        }
      ]
    },
    {
      "cell_type": "code",
      "source": [
        "# Observamos que as nossas colunas são:\n",
        "\n",
        "df.columns"
      ],
      "metadata": {
        "colab": {
          "base_uri": "https://localhost:8080/"
        },
        "id": "oF6xPbzfducs",
        "outputId": "bdf57ed1-3448-4601-858c-3f672fb0302e"
      },
      "execution_count": 4,
      "outputs": [
        {
          "output_type": "execute_result",
          "data": {
            "text/plain": [
              "Index(['Attack category', 'Attack subcategory', 'Protocol', 'Source IP',\n",
              "       'Source Port', 'Destination IP', 'Destination Port', 'Attack Name',\n",
              "       'Attack Reference', '.', 'Time'],\n",
              "      dtype='object')"
            ]
          },
          "metadata": {},
          "execution_count": 4
        }
      ]
    },
    {
      "cell_type": "code",
      "source": [
        "df.head(5)"
      ],
      "metadata": {
        "colab": {
          "base_uri": "https://localhost:8080/",
          "height": 200
        },
        "id": "EL3wblLhdrX8",
        "outputId": "c736f3df-46db-4088-bbb2-427c83793019"
      },
      "execution_count": 5,
      "outputs": [
        {
          "output_type": "execute_result",
          "data": {
            "text/html": [
              "\n",
              "  <div id=\"df-0e68dea3-77e5-4a02-a284-fd721113e419\">\n",
              "    <div class=\"colab-df-container\">\n",
              "      <div>\n",
              "<style scoped>\n",
              "    .dataframe tbody tr th:only-of-type {\n",
              "        vertical-align: middle;\n",
              "    }\n",
              "\n",
              "    .dataframe tbody tr th {\n",
              "        vertical-align: top;\n",
              "    }\n",
              "\n",
              "    .dataframe thead th {\n",
              "        text-align: right;\n",
              "    }\n",
              "</style>\n",
              "<table border=\"1\" class=\"dataframe\">\n",
              "  <thead>\n",
              "    <tr style=\"text-align: right;\">\n",
              "      <th></th>\n",
              "      <th>Attack category</th>\n",
              "      <th>Attack subcategory</th>\n",
              "      <th>Protocol</th>\n",
              "      <th>Source IP</th>\n",
              "      <th>Source Port</th>\n",
              "      <th>Destination IP</th>\n",
              "      <th>Destination Port</th>\n",
              "      <th>Attack Name</th>\n",
              "      <th>Attack Reference</th>\n",
              "      <th>.</th>\n",
              "      <th>Time</th>\n",
              "    </tr>\n",
              "  </thead>\n",
              "  <tbody>\n",
              "    <tr>\n",
              "      <th>0</th>\n",
              "      <td>Reconnaissance</td>\n",
              "      <td>HTTP</td>\n",
              "      <td>tcp</td>\n",
              "      <td>175.45.176.0</td>\n",
              "      <td>13284</td>\n",
              "      <td>149.171.126.16</td>\n",
              "      <td>80</td>\n",
              "      <td>Domino Web Server Database Access: /doladmin.n...</td>\n",
              "      <td>-</td>\n",
              "      <td>.</td>\n",
              "      <td>1421927414-1421927416</td>\n",
              "    </tr>\n",
              "    <tr>\n",
              "      <th>1</th>\n",
              "      <td>Exploits</td>\n",
              "      <td>Unix 'r' Service</td>\n",
              "      <td>udp</td>\n",
              "      <td>175.45.176.3</td>\n",
              "      <td>21223</td>\n",
              "      <td>149.171.126.18</td>\n",
              "      <td>32780</td>\n",
              "      <td>Solaris rwalld Format String Vulnerability (ht...</td>\n",
              "      <td>CVE 2002-0573 (http://cve.mitre.org/cgi-bin/cv...</td>\n",
              "      <td>.</td>\n",
              "      <td>1421927415-1421927415</td>\n",
              "    </tr>\n",
              "    <tr>\n",
              "      <th>2</th>\n",
              "      <td>Exploits</td>\n",
              "      <td>Browser</td>\n",
              "      <td>tcp</td>\n",
              "      <td>175.45.176.2</td>\n",
              "      <td>23357</td>\n",
              "      <td>149.171.126.16</td>\n",
              "      <td>80</td>\n",
              "      <td>Windows Metafile (WMF) SetAbortProc() Code Exe...</td>\n",
              "      <td>CVE 2005-4560 (http://cve.mitre.org/cgi-bin/cv...</td>\n",
              "      <td>.</td>\n",
              "      <td>1421927416-1421927416</td>\n",
              "    </tr>\n",
              "    <tr>\n",
              "      <th>3</th>\n",
              "      <td>Exploits</td>\n",
              "      <td>Miscellaneous Batch</td>\n",
              "      <td>tcp</td>\n",
              "      <td>175.45.176.2</td>\n",
              "      <td>13792</td>\n",
              "      <td>149.171.126.16</td>\n",
              "      <td>5555</td>\n",
              "      <td>HP Data Protector Backup (https://strikecenter...</td>\n",
              "      <td>CVE 2011-1729 (http://cve.mitre.org/cgi-bin/cv...</td>\n",
              "      <td>.</td>\n",
              "      <td>1421927417-1421927417</td>\n",
              "    </tr>\n",
              "    <tr>\n",
              "      <th>4</th>\n",
              "      <td>Exploits</td>\n",
              "      <td>Cisco IOS</td>\n",
              "      <td>tcp</td>\n",
              "      <td>175.45.176.2</td>\n",
              "      <td>26939</td>\n",
              "      <td>149.171.126.10</td>\n",
              "      <td>80</td>\n",
              "      <td>Cisco IOS HTTP Authentication Bypass Level 64 ...</td>\n",
              "      <td>CVE 2001-0537 (http://cve.mitre.org/cgi-bin/cv...</td>\n",
              "      <td>.</td>\n",
              "      <td>1421927418-1421927418</td>\n",
              "    </tr>\n",
              "  </tbody>\n",
              "</table>\n",
              "</div>\n",
              "      <button class=\"colab-df-convert\" onclick=\"convertToInteractive('df-0e68dea3-77e5-4a02-a284-fd721113e419')\"\n",
              "              title=\"Convert this dataframe to an interactive table.\"\n",
              "              style=\"display:none;\">\n",
              "        \n",
              "  <svg xmlns=\"http://www.w3.org/2000/svg\" height=\"24px\"viewBox=\"0 0 24 24\"\n",
              "       width=\"24px\">\n",
              "    <path d=\"M0 0h24v24H0V0z\" fill=\"none\"/>\n",
              "    <path d=\"M18.56 5.44l.94 2.06.94-2.06 2.06-.94-2.06-.94-.94-2.06-.94 2.06-2.06.94zm-11 1L8.5 8.5l.94-2.06 2.06-.94-2.06-.94L8.5 2.5l-.94 2.06-2.06.94zm10 10l.94 2.06.94-2.06 2.06-.94-2.06-.94-.94-2.06-.94 2.06-2.06.94z\"/><path d=\"M17.41 7.96l-1.37-1.37c-.4-.4-.92-.59-1.43-.59-.52 0-1.04.2-1.43.59L10.3 9.45l-7.72 7.72c-.78.78-.78 2.05 0 2.83L4 21.41c.39.39.9.59 1.41.59.51 0 1.02-.2 1.41-.59l7.78-7.78 2.81-2.81c.8-.78.8-2.07 0-2.86zM5.41 20L4 18.59l7.72-7.72 1.47 1.35L5.41 20z\"/>\n",
              "  </svg>\n",
              "      </button>\n",
              "      \n",
              "  <style>\n",
              "    .colab-df-container {\n",
              "      display:flex;\n",
              "      flex-wrap:wrap;\n",
              "      gap: 12px;\n",
              "    }\n",
              "\n",
              "    .colab-df-convert {\n",
              "      background-color: #E8F0FE;\n",
              "      border: none;\n",
              "      border-radius: 50%;\n",
              "      cursor: pointer;\n",
              "      display: none;\n",
              "      fill: #1967D2;\n",
              "      height: 32px;\n",
              "      padding: 0 0 0 0;\n",
              "      width: 32px;\n",
              "    }\n",
              "\n",
              "    .colab-df-convert:hover {\n",
              "      background-color: #E2EBFA;\n",
              "      box-shadow: 0px 1px 2px rgba(60, 64, 67, 0.3), 0px 1px 3px 1px rgba(60, 64, 67, 0.15);\n",
              "      fill: #174EA6;\n",
              "    }\n",
              "\n",
              "    [theme=dark] .colab-df-convert {\n",
              "      background-color: #3B4455;\n",
              "      fill: #D2E3FC;\n",
              "    }\n",
              "\n",
              "    [theme=dark] .colab-df-convert:hover {\n",
              "      background-color: #434B5C;\n",
              "      box-shadow: 0px 1px 3px 1px rgba(0, 0, 0, 0.15);\n",
              "      filter: drop-shadow(0px 1px 2px rgba(0, 0, 0, 0.3));\n",
              "      fill: #FFFFFF;\n",
              "    }\n",
              "  </style>\n",
              "\n",
              "      <script>\n",
              "        const buttonEl =\n",
              "          document.querySelector('#df-0e68dea3-77e5-4a02-a284-fd721113e419 button.colab-df-convert');\n",
              "        buttonEl.style.display =\n",
              "          google.colab.kernel.accessAllowed ? 'block' : 'none';\n",
              "\n",
              "        async function convertToInteractive(key) {\n",
              "          const element = document.querySelector('#df-0e68dea3-77e5-4a02-a284-fd721113e419');\n",
              "          const dataTable =\n",
              "            await google.colab.kernel.invokeFunction('convertToInteractive',\n",
              "                                                     [key], {});\n",
              "          if (!dataTable) return;\n",
              "\n",
              "          const docLinkHtml = 'Like what you see? Visit the ' +\n",
              "            '<a target=\"_blank\" href=https://colab.research.google.com/notebooks/data_table.ipynb>data table notebook</a>'\n",
              "            + ' to learn more about interactive tables.';\n",
              "          element.innerHTML = '';\n",
              "          dataTable['output_type'] = 'display_data';\n",
              "          await google.colab.output.renderOutput(dataTable, element);\n",
              "          const docLink = document.createElement('div');\n",
              "          docLink.innerHTML = docLinkHtml;\n",
              "          element.appendChild(docLink);\n",
              "        }\n",
              "      </script>\n",
              "    </div>\n",
              "  </div>\n",
              "  "
            ],
            "text/plain": [
              "  Attack category   Attack subcategory  ...  .                   Time\n",
              "0  Reconnaissance                 HTTP  ...  .  1421927414-1421927416\n",
              "1        Exploits     Unix 'r' Service  ...  .  1421927415-1421927415\n",
              "2        Exploits              Browser  ...  .  1421927416-1421927416\n",
              "3        Exploits  Miscellaneous Batch  ...  .  1421927417-1421927417\n",
              "4        Exploits           Cisco IOS   ...  .  1421927418-1421927418\n",
              "\n",
              "[5 rows x 11 columns]"
            ]
          },
          "metadata": {},
          "execution_count": 5
        }
      ]
    },
    {
      "cell_type": "markdown",
      "source": [
        "## Análise, limpeza e exploração de nossos Dados"
      ],
      "metadata": {
        "id": "k6NnK3WE9eaS"
      }
    },
    {
      "cell_type": "code",
      "source": [
        "# Na coluna \"time\" aplicamos o método --> split(), para separar em tempo de início e tempo final\n",
        "\n",
        "df[['Start time', 'Last time']] = df['Time'].str.split('-', expand=True)\n",
        "\n",
        "df.sample(6)"
      ],
      "metadata": {
        "id": "_sZwEGmjeG9G",
        "colab": {
          "base_uri": "https://localhost:8080/",
          "height": 387
        },
        "outputId": "a18abe0e-0f3e-4c0e-f360-c1ca4cf6c6b0"
      },
      "execution_count": 6,
      "outputs": [
        {
          "output_type": "execute_result",
          "data": {
            "text/html": [
              "\n",
              "  <div id=\"df-4c743947-5cd0-46a2-8dd7-446c4c13eff7\">\n",
              "    <div class=\"colab-df-container\">\n",
              "      <div>\n",
              "<style scoped>\n",
              "    .dataframe tbody tr th:only-of-type {\n",
              "        vertical-align: middle;\n",
              "    }\n",
              "\n",
              "    .dataframe tbody tr th {\n",
              "        vertical-align: top;\n",
              "    }\n",
              "\n",
              "    .dataframe thead th {\n",
              "        text-align: right;\n",
              "    }\n",
              "</style>\n",
              "<table border=\"1\" class=\"dataframe\">\n",
              "  <thead>\n",
              "    <tr style=\"text-align: right;\">\n",
              "      <th></th>\n",
              "      <th>Attack category</th>\n",
              "      <th>Attack subcategory</th>\n",
              "      <th>Protocol</th>\n",
              "      <th>Source IP</th>\n",
              "      <th>Source Port</th>\n",
              "      <th>Destination IP</th>\n",
              "      <th>Destination Port</th>\n",
              "      <th>Attack Name</th>\n",
              "      <th>Attack Reference</th>\n",
              "      <th>.</th>\n",
              "      <th>Time</th>\n",
              "      <th>Start time</th>\n",
              "      <th>Last time</th>\n",
              "    </tr>\n",
              "  </thead>\n",
              "  <tbody>\n",
              "    <tr>\n",
              "      <th>176581</th>\n",
              "      <td>Fuzzers</td>\n",
              "      <td>BGP</td>\n",
              "      <td>tcp</td>\n",
              "      <td>175.45.176.1</td>\n",
              "      <td>78996</td>\n",
              "      <td>149.171.126.11</td>\n",
              "      <td>179</td>\n",
              "      <td>BGP Open: Params: Long Parameter Fields (https...</td>\n",
              "      <td>NaN</td>\n",
              "      <td>.</td>\n",
              "      <td>1424228438-1424228439</td>\n",
              "      <td>1424228438</td>\n",
              "      <td>1424228439</td>\n",
              "    </tr>\n",
              "    <tr>\n",
              "      <th>142563</th>\n",
              "      <td>Reconnaissance</td>\n",
              "      <td>HTTP</td>\n",
              "      <td>tcp</td>\n",
              "      <td>175.45.176.2</td>\n",
              "      <td>2182</td>\n",
              "      <td>149.171.126.15</td>\n",
              "      <td>80</td>\n",
              "      <td>Netscape Server WP Tag Directory Index Variant...</td>\n",
              "      <td>CVE 2000-0236 (http://cve.mitre.org/cgi-bin/cv...</td>\n",
              "      <td>.</td>\n",
              "      <td>1424253505-1424253505</td>\n",
              "      <td>1424253505</td>\n",
              "      <td>1424253505</td>\n",
              "    </tr>\n",
              "    <tr>\n",
              "      <th>6610</th>\n",
              "      <td>Fuzzers</td>\n",
              "      <td>OSPF</td>\n",
              "      <td>unas</td>\n",
              "      <td>175.45.176.1</td>\n",
              "      <td>0</td>\n",
              "      <td>149.171.126.12</td>\n",
              "      <td>0</td>\n",
              "      <td>Fuzzer: OSPF Database Description Packet: Inva...</td>\n",
              "      <td>-</td>\n",
              "      <td>.</td>\n",
              "      <td>1421930752-1421930752</td>\n",
              "      <td>1421930752</td>\n",
              "      <td>1421930752</td>\n",
              "    </tr>\n",
              "    <tr>\n",
              "      <th>76</th>\n",
              "      <td>Generic</td>\n",
              "      <td>IXIA</td>\n",
              "      <td>tcp</td>\n",
              "      <td>175.45.176.2</td>\n",
              "      <td>8037</td>\n",
              "      <td>149.171.126.10</td>\n",
              "      <td>80</td>\n",
              "      <td>Adobe_Shockwave_Player_DIR_Files_PAMI_Chunk_Co...</td>\n",
              "      <td>CVE 2010-1292 (http://cve.mitre.org/cgi-bin/cv...</td>\n",
              "      <td>.</td>\n",
              "      <td>1421927485-1421927485</td>\n",
              "      <td>1421927485</td>\n",
              "      <td>1421927485</td>\n",
              "    </tr>\n",
              "    <tr>\n",
              "      <th>83676</th>\n",
              "      <td>Fuzzers</td>\n",
              "      <td>OSPF</td>\n",
              "      <td>unas</td>\n",
              "      <td>175.45.176.1</td>\n",
              "      <td>0</td>\n",
              "      <td>149.171.126.10</td>\n",
              "      <td>0</td>\n",
              "      <td>Fuzzer: OSPF Simple Password Auth: Bad Strings...</td>\n",
              "      <td>NaN</td>\n",
              "      <td>.</td>\n",
              "      <td>1424237380-1424237380</td>\n",
              "      <td>1424237380</td>\n",
              "      <td>1424237380</td>\n",
              "    </tr>\n",
              "    <tr>\n",
              "      <th>9422</th>\n",
              "      <td>Reconnaissance</td>\n",
              "      <td>SunRPC Portmapper (UDP) UDP Service</td>\n",
              "      <td>udp</td>\n",
              "      <td>175.45.176.3</td>\n",
              "      <td>24837</td>\n",
              "      <td>149.171.126.11</td>\n",
              "      <td>111</td>\n",
              "      <td>SunRPC UDP Portmapper GETPORT Request (rpcnfsv...</td>\n",
              "      <td>-</td>\n",
              "      <td>.</td>\n",
              "      <td>1421931800-1421931800</td>\n",
              "      <td>1421931800</td>\n",
              "      <td>1421931800</td>\n",
              "    </tr>\n",
              "  </tbody>\n",
              "</table>\n",
              "</div>\n",
              "      <button class=\"colab-df-convert\" onclick=\"convertToInteractive('df-4c743947-5cd0-46a2-8dd7-446c4c13eff7')\"\n",
              "              title=\"Convert this dataframe to an interactive table.\"\n",
              "              style=\"display:none;\">\n",
              "        \n",
              "  <svg xmlns=\"http://www.w3.org/2000/svg\" height=\"24px\"viewBox=\"0 0 24 24\"\n",
              "       width=\"24px\">\n",
              "    <path d=\"M0 0h24v24H0V0z\" fill=\"none\"/>\n",
              "    <path d=\"M18.56 5.44l.94 2.06.94-2.06 2.06-.94-2.06-.94-.94-2.06-.94 2.06-2.06.94zm-11 1L8.5 8.5l.94-2.06 2.06-.94-2.06-.94L8.5 2.5l-.94 2.06-2.06.94zm10 10l.94 2.06.94-2.06 2.06-.94-2.06-.94-.94-2.06-.94 2.06-2.06.94z\"/><path d=\"M17.41 7.96l-1.37-1.37c-.4-.4-.92-.59-1.43-.59-.52 0-1.04.2-1.43.59L10.3 9.45l-7.72 7.72c-.78.78-.78 2.05 0 2.83L4 21.41c.39.39.9.59 1.41.59.51 0 1.02-.2 1.41-.59l7.78-7.78 2.81-2.81c.8-.78.8-2.07 0-2.86zM5.41 20L4 18.59l7.72-7.72 1.47 1.35L5.41 20z\"/>\n",
              "  </svg>\n",
              "      </button>\n",
              "      \n",
              "  <style>\n",
              "    .colab-df-container {\n",
              "      display:flex;\n",
              "      flex-wrap:wrap;\n",
              "      gap: 12px;\n",
              "    }\n",
              "\n",
              "    .colab-df-convert {\n",
              "      background-color: #E8F0FE;\n",
              "      border: none;\n",
              "      border-radius: 50%;\n",
              "      cursor: pointer;\n",
              "      display: none;\n",
              "      fill: #1967D2;\n",
              "      height: 32px;\n",
              "      padding: 0 0 0 0;\n",
              "      width: 32px;\n",
              "    }\n",
              "\n",
              "    .colab-df-convert:hover {\n",
              "      background-color: #E2EBFA;\n",
              "      box-shadow: 0px 1px 2px rgba(60, 64, 67, 0.3), 0px 1px 3px 1px rgba(60, 64, 67, 0.15);\n",
              "      fill: #174EA6;\n",
              "    }\n",
              "\n",
              "    [theme=dark] .colab-df-convert {\n",
              "      background-color: #3B4455;\n",
              "      fill: #D2E3FC;\n",
              "    }\n",
              "\n",
              "    [theme=dark] .colab-df-convert:hover {\n",
              "      background-color: #434B5C;\n",
              "      box-shadow: 0px 1px 3px 1px rgba(0, 0, 0, 0.15);\n",
              "      filter: drop-shadow(0px 1px 2px rgba(0, 0, 0, 0.3));\n",
              "      fill: #FFFFFF;\n",
              "    }\n",
              "  </style>\n",
              "\n",
              "      <script>\n",
              "        const buttonEl =\n",
              "          document.querySelector('#df-4c743947-5cd0-46a2-8dd7-446c4c13eff7 button.colab-df-convert');\n",
              "        buttonEl.style.display =\n",
              "          google.colab.kernel.accessAllowed ? 'block' : 'none';\n",
              "\n",
              "        async function convertToInteractive(key) {\n",
              "          const element = document.querySelector('#df-4c743947-5cd0-46a2-8dd7-446c4c13eff7');\n",
              "          const dataTable =\n",
              "            await google.colab.kernel.invokeFunction('convertToInteractive',\n",
              "                                                     [key], {});\n",
              "          if (!dataTable) return;\n",
              "\n",
              "          const docLinkHtml = 'Like what you see? Visit the ' +\n",
              "            '<a target=\"_blank\" href=https://colab.research.google.com/notebooks/data_table.ipynb>data table notebook</a>'\n",
              "            + ' to learn more about interactive tables.';\n",
              "          element.innerHTML = '';\n",
              "          dataTable['output_type'] = 'display_data';\n",
              "          await google.colab.output.renderOutput(dataTable, element);\n",
              "          const docLink = document.createElement('div');\n",
              "          docLink.innerHTML = docLinkHtml;\n",
              "          element.appendChild(docLink);\n",
              "        }\n",
              "      </script>\n",
              "    </div>\n",
              "  </div>\n",
              "  "
            ],
            "text/plain": [
              "         Attack category  ...   Last time\n",
              "176581          Fuzzers   ...  1424228439\n",
              "142563   Reconnaissance   ...  1424253505\n",
              "6610             Fuzzers  ...  1421930752\n",
              "76               Generic  ...  1421927485\n",
              "83676           Fuzzers   ...  1424237380\n",
              "9422      Reconnaissance  ...  1421931800\n",
              "\n",
              "[6 rows x 13 columns]"
            ]
          },
          "metadata": {},
          "execution_count": 6
        }
      ]
    },
    {
      "cell_type": "code",
      "source": [
        "# Percebemos que temos uma coluna com nome --> \".\"\n",
        "# Vejamos nesta coluna se temos algum valor (numérico o categórico), assim:\n",
        "\n",
        "df['.'].unique()\n"
      ],
      "metadata": {
        "colab": {
          "base_uri": "https://localhost:8080/"
        },
        "id": "JOX4fkzY-T_Q",
        "outputId": "0fc3d433-a8bd-4bfe-8946-ec7e93d743a6"
      },
      "execution_count": 7,
      "outputs": [
        {
          "output_type": "execute_result",
          "data": {
            "text/plain": [
              "array(['.'], dtype=object)"
            ]
          },
          "metadata": {},
          "execution_count": 7
        }
      ]
    },
    {
      "cell_type": "code",
      "source": [
        "# Seguidamente eliminamos colunas que não são uteis para nossa análise\n",
        "# Dropamos colunas e fazemos uma cópia na memória do objeto\n",
        "\n",
        "df = df.drop(['.', 'Time'], axis=1) \n",
        "\n",
        "df.sample(6)"
      ],
      "metadata": {
        "colab": {
          "base_uri": "https://localhost:8080/",
          "height": 338
        },
        "id": "MCJdZFnz-1L7",
        "outputId": "3904ec60-98b2-4c14-dd91-3bfcc615d81a"
      },
      "execution_count": 8,
      "outputs": [
        {
          "output_type": "execute_result",
          "data": {
            "text/html": [
              "\n",
              "  <div id=\"df-21bc82cd-27f7-4207-a86a-276e217b4c80\">\n",
              "    <div class=\"colab-df-container\">\n",
              "      <div>\n",
              "<style scoped>\n",
              "    .dataframe tbody tr th:only-of-type {\n",
              "        vertical-align: middle;\n",
              "    }\n",
              "\n",
              "    .dataframe tbody tr th {\n",
              "        vertical-align: top;\n",
              "    }\n",
              "\n",
              "    .dataframe thead th {\n",
              "        text-align: right;\n",
              "    }\n",
              "</style>\n",
              "<table border=\"1\" class=\"dataframe\">\n",
              "  <thead>\n",
              "    <tr style=\"text-align: right;\">\n",
              "      <th></th>\n",
              "      <th>Attack category</th>\n",
              "      <th>Attack subcategory</th>\n",
              "      <th>Protocol</th>\n",
              "      <th>Source IP</th>\n",
              "      <th>Source Port</th>\n",
              "      <th>Destination IP</th>\n",
              "      <th>Destination Port</th>\n",
              "      <th>Attack Name</th>\n",
              "      <th>Attack Reference</th>\n",
              "      <th>Start time</th>\n",
              "      <th>Last time</th>\n",
              "    </tr>\n",
              "  </thead>\n",
              "  <tbody>\n",
              "    <tr>\n",
              "      <th>2850</th>\n",
              "      <td>Reconnaissance</td>\n",
              "      <td>SunRPC Portmapper (TCP) UDP Service</td>\n",
              "      <td>tcp</td>\n",
              "      <td>175.45.176.1</td>\n",
              "      <td>59803</td>\n",
              "      <td>149.171.126.12</td>\n",
              "      <td>111</td>\n",
              "      <td>SunRPC TCP Portmapper GETPORT Request (nfs_acl...</td>\n",
              "      <td>-</td>\n",
              "      <td>1421928872</td>\n",
              "      <td>1421928873</td>\n",
              "    </tr>\n",
              "    <tr>\n",
              "      <th>84630</th>\n",
              "      <td>Exploits</td>\n",
              "      <td>Miscellaneous</td>\n",
              "      <td>unas</td>\n",
              "      <td>175.45.176.1</td>\n",
              "      <td>0</td>\n",
              "      <td>149.171.126.10</td>\n",
              "      <td>0</td>\n",
              "      <td>Microsoft Windows Media Services MMS Funnel Na...</td>\n",
              "      <td>CVE 2010-0478 (http://cve.mitre.org/cgi-bin/cv...</td>\n",
              "      <td>1424237394</td>\n",
              "      <td>1424237394</td>\n",
              "    </tr>\n",
              "    <tr>\n",
              "      <th>5535</th>\n",
              "      <td>Backdoors</td>\n",
              "      <td></td>\n",
              "      <td>3pc</td>\n",
              "      <td>175.45.176.1</td>\n",
              "      <td>0</td>\n",
              "      <td>149.171.126.12</td>\n",
              "      <td>0</td>\n",
              "      <td>HP Performance Manager Tomcat Bypass (https://...</td>\n",
              "      <td>CVE 2009-3548 (http://cve.mitre.org/cgi-bin/cv...</td>\n",
              "      <td>1421930674</td>\n",
              "      <td>1421930674</td>\n",
              "    </tr>\n",
              "    <tr>\n",
              "      <th>38888</th>\n",
              "      <td>Fuzzers</td>\n",
              "      <td>SMB</td>\n",
              "      <td>udp</td>\n",
              "      <td>175.45.176.1</td>\n",
              "      <td>137</td>\n",
              "      <td>149.171.126.15</td>\n",
              "      <td>137</td>\n",
              "      <td>BGP Update: Random Path Attributes (https://st...</td>\n",
              "      <td>NaN</td>\n",
              "      <td>1424226458</td>\n",
              "      <td>1424226493</td>\n",
              "    </tr>\n",
              "    <tr>\n",
              "      <th>19018</th>\n",
              "      <td>DoS</td>\n",
              "      <td>ICMP</td>\n",
              "      <td>pup</td>\n",
              "      <td>175.45.176.0</td>\n",
              "      <td>0</td>\n",
              "      <td>149.171.126.13</td>\n",
              "      <td>0</td>\n",
              "      <td>ICMP Echo Request Modem Hangup (++ATH0) (https...</td>\n",
              "      <td>CVE 1999-1228 (http://cve.mitre.org/cgi-bin/cv...</td>\n",
              "      <td>1424223147</td>\n",
              "      <td>1424223147</td>\n",
              "    </tr>\n",
              "    <tr>\n",
              "      <th>109700</th>\n",
              "      <td>DoS</td>\n",
              "      <td>Miscellaneous</td>\n",
              "      <td>unas</td>\n",
              "      <td>175.45.176.1</td>\n",
              "      <td>0</td>\n",
              "      <td>149.171.126.17</td>\n",
              "      <td>0</td>\n",
              "      <td>Doms Httpd Denial of Service (https://strikece...</td>\n",
              "      <td>OSVDB 84104 (http://www.osvdb.org/84104)CVSS-M...</td>\n",
              "      <td>1424244421</td>\n",
              "      <td>1424244421</td>\n",
              "    </tr>\n",
              "  </tbody>\n",
              "</table>\n",
              "</div>\n",
              "      <button class=\"colab-df-convert\" onclick=\"convertToInteractive('df-21bc82cd-27f7-4207-a86a-276e217b4c80')\"\n",
              "              title=\"Convert this dataframe to an interactive table.\"\n",
              "              style=\"display:none;\">\n",
              "        \n",
              "  <svg xmlns=\"http://www.w3.org/2000/svg\" height=\"24px\"viewBox=\"0 0 24 24\"\n",
              "       width=\"24px\">\n",
              "    <path d=\"M0 0h24v24H0V0z\" fill=\"none\"/>\n",
              "    <path d=\"M18.56 5.44l.94 2.06.94-2.06 2.06-.94-2.06-.94-.94-2.06-.94 2.06-2.06.94zm-11 1L8.5 8.5l.94-2.06 2.06-.94-2.06-.94L8.5 2.5l-.94 2.06-2.06.94zm10 10l.94 2.06.94-2.06 2.06-.94-2.06-.94-.94-2.06-.94 2.06-2.06.94z\"/><path d=\"M17.41 7.96l-1.37-1.37c-.4-.4-.92-.59-1.43-.59-.52 0-1.04.2-1.43.59L10.3 9.45l-7.72 7.72c-.78.78-.78 2.05 0 2.83L4 21.41c.39.39.9.59 1.41.59.51 0 1.02-.2 1.41-.59l7.78-7.78 2.81-2.81c.8-.78.8-2.07 0-2.86zM5.41 20L4 18.59l7.72-7.72 1.47 1.35L5.41 20z\"/>\n",
              "  </svg>\n",
              "      </button>\n",
              "      \n",
              "  <style>\n",
              "    .colab-df-container {\n",
              "      display:flex;\n",
              "      flex-wrap:wrap;\n",
              "      gap: 12px;\n",
              "    }\n",
              "\n",
              "    .colab-df-convert {\n",
              "      background-color: #E8F0FE;\n",
              "      border: none;\n",
              "      border-radius: 50%;\n",
              "      cursor: pointer;\n",
              "      display: none;\n",
              "      fill: #1967D2;\n",
              "      height: 32px;\n",
              "      padding: 0 0 0 0;\n",
              "      width: 32px;\n",
              "    }\n",
              "\n",
              "    .colab-df-convert:hover {\n",
              "      background-color: #E2EBFA;\n",
              "      box-shadow: 0px 1px 2px rgba(60, 64, 67, 0.3), 0px 1px 3px 1px rgba(60, 64, 67, 0.15);\n",
              "      fill: #174EA6;\n",
              "    }\n",
              "\n",
              "    [theme=dark] .colab-df-convert {\n",
              "      background-color: #3B4455;\n",
              "      fill: #D2E3FC;\n",
              "    }\n",
              "\n",
              "    [theme=dark] .colab-df-convert:hover {\n",
              "      background-color: #434B5C;\n",
              "      box-shadow: 0px 1px 3px 1px rgba(0, 0, 0, 0.15);\n",
              "      filter: drop-shadow(0px 1px 2px rgba(0, 0, 0, 0.3));\n",
              "      fill: #FFFFFF;\n",
              "    }\n",
              "  </style>\n",
              "\n",
              "      <script>\n",
              "        const buttonEl =\n",
              "          document.querySelector('#df-21bc82cd-27f7-4207-a86a-276e217b4c80 button.colab-df-convert');\n",
              "        buttonEl.style.display =\n",
              "          google.colab.kernel.accessAllowed ? 'block' : 'none';\n",
              "\n",
              "        async function convertToInteractive(key) {\n",
              "          const element = document.querySelector('#df-21bc82cd-27f7-4207-a86a-276e217b4c80');\n",
              "          const dataTable =\n",
              "            await google.colab.kernel.invokeFunction('convertToInteractive',\n",
              "                                                     [key], {});\n",
              "          if (!dataTable) return;\n",
              "\n",
              "          const docLinkHtml = 'Like what you see? Visit the ' +\n",
              "            '<a target=\"_blank\" href=https://colab.research.google.com/notebooks/data_table.ipynb>data table notebook</a>'\n",
              "            + ' to learn more about interactive tables.';\n",
              "          element.innerHTML = '';\n",
              "          dataTable['output_type'] = 'display_data';\n",
              "          await google.colab.output.renderOutput(dataTable, element);\n",
              "          const docLink = document.createElement('div');\n",
              "          docLink.innerHTML = docLinkHtml;\n",
              "          element.appendChild(docLink);\n",
              "        }\n",
              "      </script>\n",
              "    </div>\n",
              "  </div>\n",
              "  "
            ],
            "text/plain": [
              "       Attack category  ...   Last time\n",
              "2850    Reconnaissance  ...  1421928873\n",
              "84630         Exploits  ...  1424237394\n",
              "5535         Backdoors  ...  1421930674\n",
              "38888         Fuzzers   ...  1424226493\n",
              "19018              DoS  ...  1424223147\n",
              "109700             DoS  ...  1424244421\n",
              "\n",
              "[6 rows x 11 columns]"
            ]
          },
          "metadata": {},
          "execution_count": 8
        }
      ]
    },
    {
      "cell_type": "code",
      "source": [
        "df.shape"
      ],
      "metadata": {
        "id": "1Ml10BLh_iHh",
        "colab": {
          "base_uri": "https://localhost:8080/"
        },
        "outputId": "a3b03267-8000-4caf-c11c-7d20d9bb5332"
      },
      "execution_count": 9,
      "outputs": [
        {
          "output_type": "execute_result",
          "data": {
            "text/plain": [
              "(178031, 11)"
            ]
          },
          "metadata": {},
          "execution_count": 9
        }
      ]
    },
    {
      "cell_type": "code",
      "source": [
        "figure, (ax1, ax2) = plt.subplots(1, 2, figsize=(14,5))\n",
        "msno.matrix(df, ax=ax1, sparkline=False, color=(0.1, 0.25, 0.35))\n",
        "msno.bar(df, ax=ax2, color=(0.25, 0.7, 0.25))\n",
        "plt.show()"
      ],
      "metadata": {
        "colab": {
          "base_uri": "https://localhost:8080/",
          "height": 558
        },
        "id": "dEKXo0-xWfVt",
        "outputId": "a1c8fd60-d9f1-4e15-8cce-7a5a32a12a49"
      },
      "execution_count": 10,
      "outputs": [
        {
          "output_type": "display_data",
          "data": {
            "image/png": "[encoded data removed]",
            "text/plain": [
              "<Figure size 1008x360 with 4 Axes>"
            ]
          },
          "metadata": {
            "needs_background": "light"
          }
        }
      ]
    },
    {
      "cell_type": "code",
      "source": [
        "# Vejamos os valores MISSING que temos em nossos Dados\n",
        "\n",
        "df.isna().sum()"
      ],
      "metadata": {
        "colab": {
          "base_uri": "https://localhost:8080/"
        },
        "id": "ZbF_AfHvWvZA",
        "outputId": "5ac6218e-00c0-48a9-81d7-611e59eafb48"
      },
      "execution_count": 11,
      "outputs": [
        {
          "output_type": "execute_result",
          "data": {
            "text/plain": [
              "Attack category           0\n",
              "Attack subcategory     4192\n",
              "Protocol                  0\n",
              "Source IP                 0\n",
              "Source Port               0\n",
              "Destination IP            0\n",
              "Destination Port          0\n",
              "Attack Name               0\n",
              "Attack Reference      51745\n",
              "Start time                0\n",
              "Last time                 0\n",
              "dtype: int64"
            ]
          },
          "metadata": {},
          "execution_count": 11
        }
      ]
    },
    {
      "cell_type": "code",
      "source": [
        "# Também\n",
        "\n",
        "df.isnull().sum()"
      ],
      "metadata": {
        "colab": {
          "base_uri": "https://localhost:8080/"
        },
        "id": "g7n3kGAZYtan",
        "outputId": "21647621-c9e5-439f-ad09-2bfc6a841507"
      },
      "execution_count": 12,
      "outputs": [
        {
          "output_type": "execute_result",
          "data": {
            "text/plain": [
              "Attack category           0\n",
              "Attack subcategory     4192\n",
              "Protocol                  0\n",
              "Source IP                 0\n",
              "Source Port               0\n",
              "Destination IP            0\n",
              "Destination Port          0\n",
              "Attack Name               0\n",
              "Attack Reference      51745\n",
              "Start time                0\n",
              "Last time                 0\n",
              "dtype: int64"
            ]
          },
          "metadata": {},
          "execution_count": 12
        }
      ]
    },
    {
      "cell_type": "code",
      "source": [
        "# Aqui vamos a preecher os valores MISSING com \"Not Registered\"\n",
        "\n",
        "df[\"Attack subcategory\"] = df[\"Attack subcategory\"].fillna(\"Not Registered\")"
      ],
      "metadata": {
        "id": "GkUz-iRMZCMo"
      },
      "execution_count": 13,
      "outputs": []
    },
    {
      "cell_type": "code",
      "source": [
        "# Visualizamos nossos Dados e verificamos a troca de NaN --> \"Not Registered\"\n",
        "\n",
        "df.sample(100)"
      ],
      "metadata": {
        "colab": {
          "base_uri": "https://localhost:8080/",
          "height": 408
        },
        "id": "dJ9HWSGMZjhq",
        "outputId": "c1faac77-6d7c-41d6-846d-37b965330d65"
      },
      "execution_count": 14,
      "outputs": [
        {
          "output_type": "execute_result",
          "data": {
            "text/html": [
              "\n",
              "  <div id=\"df-d2baf306-4144-49f8-8b5c-003c42209945\">\n",
              "    <div class=\"colab-df-container\">\n",
              "      <div>\n",
              "<style scoped>\n",
              "    .dataframe tbody tr th:only-of-type {\n",
              "        vertical-align: middle;\n",
              "    }\n",
              "\n",
              "    .dataframe tbody tr th {\n",
              "        vertical-align: top;\n",
              "    }\n",
              "\n",
              "    .dataframe thead th {\n",
              "        text-align: right;\n",
              "    }\n",
              "</style>\n",
              "<table border=\"1\" class=\"dataframe\">\n",
              "  <thead>\n",
              "    <tr style=\"text-align: right;\">\n",
              "      <th></th>\n",
              "      <th>Attack category</th>\n",
              "      <th>Attack subcategory</th>\n",
              "      <th>Protocol</th>\n",
              "      <th>Source IP</th>\n",
              "      <th>Source Port</th>\n",
              "      <th>Destination IP</th>\n",
              "      <th>Destination Port</th>\n",
              "      <th>Attack Name</th>\n",
              "      <th>Attack Reference</th>\n",
              "      <th>Start time</th>\n",
              "      <th>Last time</th>\n",
              "    </tr>\n",
              "  </thead>\n",
              "  <tbody>\n",
              "    <tr>\n",
              "      <th>1011</th>\n",
              "      <td>Exploits</td>\n",
              "      <td>SMB</td>\n",
              "      <td>tcp</td>\n",
              "      <td>175.45.176.1</td>\n",
              "      <td>59183</td>\n",
              "      <td>149.171.126.11</td>\n",
              "      <td>139</td>\n",
              "      <td>Samba nmbd NetServerInfo1 Server Comment Buffe...</td>\n",
              "      <td>CVE 2014-3560 (http://cve.mitre.org/cgi-bin/cv...</td>\n",
              "      <td>1421927964</td>\n",
              "      <td>1421927966</td>\n",
              "    </tr>\n",
              "    <tr>\n",
              "      <th>5419</th>\n",
              "      <td>Exploits</td>\n",
              "      <td>Miscellaneous Batch</td>\n",
              "      <td>dcn</td>\n",
              "      <td>175.45.176.1</td>\n",
              "      <td>0</td>\n",
              "      <td>149.171.126.12</td>\n",
              "      <td>0</td>\n",
              "      <td>HP Power Manager Web Server Stack Overflow (ht...</td>\n",
              "      <td>CVE 2004-1612 (http://cve.mitre.org/cgi-bin/cv...</td>\n",
              "      <td>1421930667</td>\n",
              "      <td>1421930667</td>\n",
              "    </tr>\n",
              "    <tr>\n",
              "      <th>163240</th>\n",
              "      <td>Reconnaissance</td>\n",
              "      <td>ICMP</td>\n",
              "      <td>unas</td>\n",
              "      <td>175.45.176.2</td>\n",
              "      <td>0</td>\n",
              "      <td>149.171.126.17</td>\n",
              "      <td>0</td>\n",
              "      <td>IP Options: Loose Source Route (IP Option 3) (...</td>\n",
              "      <td>NaN</td>\n",
              "      <td>1424258860</td>\n",
              "      <td>1424258860</td>\n",
              "    </tr>\n",
              "    <tr>\n",
              "      <th>35831</th>\n",
              "      <td>Generic</td>\n",
              "      <td>IXIA</td>\n",
              "      <td>udp</td>\n",
              "      <td>175.45.176.0</td>\n",
              "      <td>47439</td>\n",
              "      <td>149.171.126.12</td>\n",
              "      <td>53</td>\n",
              "      <td>Microsoft_DNS_Server_ANY_Query_Cache_Weakness_...</td>\n",
              "      <td>CVE 2009-0234 (http://cve.mitre.org/cgi-bin/cv...</td>\n",
              "      <td>1424225168</td>\n",
              "      <td>1424225168</td>\n",
              "    </tr>\n",
              "    <tr>\n",
              "      <th>164523</th>\n",
              "      <td>Exploits</td>\n",
              "      <td>Miscellaneous</td>\n",
              "      <td>unas</td>\n",
              "      <td>175.45.176.2</td>\n",
              "      <td>0</td>\n",
              "      <td>149.171.126.17</td>\n",
              "      <td>0</td>\n",
              "      <td>Airlive IP Camera URI Handling Denial of Servi...</td>\n",
              "      <td>CVE 2013-3691 (http://cve.mitre.org/cgi-bin/cv...</td>\n",
              "      <td>1424258878</td>\n",
              "      <td>1424258878</td>\n",
              "    </tr>\n",
              "    <tr>\n",
              "      <th>...</th>\n",
              "      <td>...</td>\n",
              "      <td>...</td>\n",
              "      <td>...</td>\n",
              "      <td>...</td>\n",
              "      <td>...</td>\n",
              "      <td>...</td>\n",
              "      <td>...</td>\n",
              "      <td>...</td>\n",
              "      <td>...</td>\n",
              "      <td>...</td>\n",
              "      <td>...</td>\n",
              "    </tr>\n",
              "    <tr>\n",
              "      <th>149425</th>\n",
              "      <td>Reconnaissance</td>\n",
              "      <td>SunRPC Portmapper (UDP)</td>\n",
              "      <td>udp</td>\n",
              "      <td>175.45.176.2</td>\n",
              "      <td>28485</td>\n",
              "      <td>149.171.126.19</td>\n",
              "      <td>111</td>\n",
              "      <td>SunRPC UDP Portmapper GETPORT Request (metadv2...</td>\n",
              "      <td>NaN</td>\n",
              "      <td>1424256722</td>\n",
              "      <td>1424256722</td>\n",
              "    </tr>\n",
              "    <tr>\n",
              "      <th>20707</th>\n",
              "      <td>DoS</td>\n",
              "      <td>Ethernet</td>\n",
              "      <td>ddp</td>\n",
              "      <td>175.45.176.0</td>\n",
              "      <td>0</td>\n",
              "      <td>149.171.126.13</td>\n",
              "      <td>0</td>\n",
              "      <td>Cisco IPS Jumbo Frame System Crash (https://st...</td>\n",
              "      <td>CVE 2008-2060 (http://cve.mitre.org/cgi-bin/cv...</td>\n",
              "      <td>1424223185</td>\n",
              "      <td>1424223185</td>\n",
              "    </tr>\n",
              "    <tr>\n",
              "      <th>72577</th>\n",
              "      <td>Reconnaissance</td>\n",
              "      <td>SunRPC Portmapper (UDP)</td>\n",
              "      <td>tcp</td>\n",
              "      <td>175.45.176.1</td>\n",
              "      <td>56179</td>\n",
              "      <td>149.171.126.13</td>\n",
              "      <td>111</td>\n",
              "      <td>SunRPC UDP Portmapper GETPORT Request (hostper...</td>\n",
              "      <td>NaN</td>\n",
              "      <td>1424236022</td>\n",
              "      <td>1424236022</td>\n",
              "    </tr>\n",
              "    <tr>\n",
              "      <th>12982</th>\n",
              "      <td>Generic</td>\n",
              "      <td>IXIA</td>\n",
              "      <td>UDP</td>\n",
              "      <td>175.45.176.1</td>\n",
              "      <td>1043</td>\n",
              "      <td>149.171.126.18</td>\n",
              "      <td>53</td>\n",
              "      <td>Microsoft_DNS_Server_ANY_Query_Cache_Weakness_...</td>\n",
              "      <td>CVE 2005-4092 (http://cve.mitre.org/cgi-bin/cv...</td>\n",
              "      <td>1421933399</td>\n",
              "      <td>1421933399</td>\n",
              "    </tr>\n",
              "    <tr>\n",
              "      <th>154217</th>\n",
              "      <td>Reconnaissance</td>\n",
              "      <td>ICMP</td>\n",
              "      <td>trunk-2</td>\n",
              "      <td>175.45.176.2</td>\n",
              "      <td>0</td>\n",
              "      <td>149.171.126.17</td>\n",
              "      <td>0</td>\n",
              "      <td>IP Options: Extended Security (IP Option 5) (h...</td>\n",
              "      <td>NaN</td>\n",
              "      <td>1424258768</td>\n",
              "      <td>1424258768</td>\n",
              "    </tr>\n",
              "  </tbody>\n",
              "</table>\n",
              "<p>100 rows × 11 columns</p>\n",
              "</div>\n",
              "      <button class=\"colab-df-convert\" onclick=\"convertToInteractive('df-d2baf306-4144-49f8-8b5c-003c42209945')\"\n",
              "              title=\"Convert this dataframe to an interactive table.\"\n",
              "              style=\"display:none;\">\n",
              "        \n",
              "  <svg xmlns=\"http://www.w3.org/2000/svg\" height=\"24px\"viewBox=\"0 0 24 24\"\n",
              "       width=\"24px\">\n",
              "    <path d=\"M0 0h24v24H0V0z\" fill=\"none\"/>\n",
              "    <path d=\"M18.56 5.44l.94 2.06.94-2.06 2.06-.94-2.06-.94-.94-2.06-.94 2.06-2.06.94zm-11 1L8.5 8.5l.94-2.06 2.06-.94-2.06-.94L8.5 2.5l-.94 2.06-2.06.94zm10 10l.94 2.06.94-2.06 2.06-.94-2.06-.94-.94-2.06-.94 2.06-2.06.94z\"/><path d=\"M17.41 7.96l-1.37-1.37c-.4-.4-.92-.59-1.43-.59-.52 0-1.04.2-1.43.59L10.3 9.45l-7.72 7.72c-.78.78-.78 2.05 0 2.83L4 21.41c.39.39.9.59 1.41.59.51 0 1.02-.2 1.41-.59l7.78-7.78 2.81-2.81c.8-.78.8-2.07 0-2.86zM5.41 20L4 18.59l7.72-7.72 1.47 1.35L5.41 20z\"/>\n",
              "  </svg>\n",
              "      </button>\n",
              "      \n",
              "  <style>\n",
              "    .colab-df-container {\n",
              "      display:flex;\n",
              "      flex-wrap:wrap;\n",
              "      gap: 12px;\n",
              "    }\n",
              "\n",
              "    .colab-df-convert {\n",
              "      background-color: #E8F0FE;\n",
              "      border: none;\n",
              "      border-radius: 50%;\n",
              "      cursor: pointer;\n",
              "      display: none;\n",
              "      fill: #1967D2;\n",
              "      height: 32px;\n",
              "      padding: 0 0 0 0;\n",
              "      width: 32px;\n",
              "    }\n",
              "\n",
              "    .colab-df-convert:hover {\n",
              "      background-color: #E2EBFA;\n",
              "      box-shadow: 0px 1px 2px rgba(60, 64, 67, 0.3), 0px 1px 3px 1px rgba(60, 64, 67, 0.15);\n",
              "      fill: #174EA6;\n",
              "    }\n",
              "\n",
              "    [theme=dark] .colab-df-convert {\n",
              "      background-color: #3B4455;\n",
              "      fill: #D2E3FC;\n",
              "    }\n",
              "\n",
              "    [theme=dark] .colab-df-convert:hover {\n",
              "      background-color: #434B5C;\n",
              "      box-shadow: 0px 1px 3px 1px rgba(0, 0, 0, 0.15);\n",
              "      filter: drop-shadow(0px 1px 2px rgba(0, 0, 0, 0.3));\n",
              "      fill: #FFFFFF;\n",
              "    }\n",
              "  </style>\n",
              "\n",
              "      <script>\n",
              "        const buttonEl =\n",
              "          document.querySelector('#df-d2baf306-4144-49f8-8b5c-003c42209945 button.colab-df-convert');\n",
              "        buttonEl.style.display =\n",
              "          google.colab.kernel.accessAllowed ? 'block' : 'none';\n",
              "\n",
              "        async function convertToInteractive(key) {\n",
              "          const element = document.querySelector('#df-d2baf306-4144-49f8-8b5c-003c42209945');\n",
              "          const dataTable =\n",
              "            await google.colab.kernel.invokeFunction('convertToInteractive',\n",
              "                                                     [key], {});\n",
              "          if (!dataTable) return;\n",
              "\n",
              "          const docLinkHtml = 'Like what you see? Visit the ' +\n",
              "            '<a target=\"_blank\" href=https://colab.research.google.com/notebooks/data_table.ipynb>data table notebook</a>'\n",
              "            + ' to learn more about interactive tables.';\n",
              "          element.innerHTML = '';\n",
              "          dataTable['output_type'] = 'display_data';\n",
              "          await google.colab.output.renderOutput(dataTable, element);\n",
              "          const docLink = document.createElement('div');\n",
              "          docLink.innerHTML = docLinkHtml;\n",
              "          element.appendChild(docLink);\n",
              "        }\n",
              "      </script>\n",
              "    </div>\n",
              "  </div>\n",
              "  "
            ],
            "text/plain": [
              "         Attack category       Attack subcategory  ...  Start time   Last time\n",
              "1011            Exploits                      SMB  ...  1421927964  1421927966\n",
              "5419            Exploits      Miscellaneous Batch  ...  1421930667  1421930667\n",
              "163240   Reconnaissance                      ICMP  ...  1424258860  1424258860\n",
              "35831            Generic                     IXIA  ...  1424225168  1424225168\n",
              "164523          Exploits            Miscellaneous  ...  1424258878  1424258878\n",
              "...                  ...                      ...  ...         ...         ...\n",
              "149425   Reconnaissance   SunRPC Portmapper (UDP)  ...  1424256722  1424256722\n",
              "20707                DoS                 Ethernet  ...  1424223185  1424223185\n",
              "72577    Reconnaissance   SunRPC Portmapper (UDP)  ...  1424236022  1424236022\n",
              "12982            Generic                     IXIA  ...  1421933399  1421933399\n",
              "154217   Reconnaissance                      ICMP  ...  1424258768  1424258768\n",
              "\n",
              "[100 rows x 11 columns]"
            ]
          },
          "metadata": {},
          "execution_count": 14
        }
      ]
    },
    {
      "cell_type": "code",
      "source": [
        "df.isnull().sum()"
      ],
      "metadata": {
        "colab": {
          "base_uri": "https://localhost:8080/"
        },
        "id": "j2KATODvZlMz",
        "outputId": "293c705e-60e9-421c-ff98-7393c53dccbb"
      },
      "execution_count": 15,
      "outputs": [
        {
          "output_type": "execute_result",
          "data": {
            "text/plain": [
              "Attack category           0\n",
              "Attack subcategory        0\n",
              "Protocol                  0\n",
              "Source IP                 0\n",
              "Source Port               0\n",
              "Destination IP            0\n",
              "Destination Port          0\n",
              "Attack Name               0\n",
              "Attack Reference      51745\n",
              "Start time                0\n",
              "Last time                 0\n",
              "dtype: int64"
            ]
          },
          "metadata": {},
          "execution_count": 15
        }
      ]
    },
    {
      "cell_type": "code",
      "source": [
        "df.shape"
      ],
      "metadata": {
        "id": "JunT-cqcaRFH",
        "colab": {
          "base_uri": "https://localhost:8080/"
        },
        "outputId": "14289b66-d921-49ab-a34a-27d73e5b683e"
      },
      "execution_count": 16,
      "outputs": [
        {
          "output_type": "execute_result",
          "data": {
            "text/plain": [
              "(178031, 11)"
            ]
          },
          "metadata": {},
          "execution_count": 16
        }
      ]
    },
    {
      "cell_type": "code",
      "source": [
        "df[pd.isnull(df).any(axis=1)].shape"
      ],
      "metadata": {
        "colab": {
          "base_uri": "https://localhost:8080/"
        },
        "id": "osMRjBPvN-No",
        "outputId": "8511e15e-1b72-4011-e884-43b44ae7527b"
      },
      "execution_count": 17,
      "outputs": [
        {
          "output_type": "execute_result",
          "data": {
            "text/plain": [
              "(51745, 11)"
            ]
          },
          "metadata": {},
          "execution_count": 17
        }
      ]
    },
    {
      "cell_type": "code",
      "source": [
        "# Vejamos quantas linhas duplicadas temos\n",
        "# A seguir eliminaremos essas linhas duplicadas\n",
        "\n",
        "df[df.duplicated()].shape # Temos 6 linhas duplicadas"
      ],
      "metadata": {
        "colab": {
          "base_uri": "https://localhost:8080/"
        },
        "id": "vsKSb4DIOTGs",
        "outputId": "510f001f-016e-4649-b547-547b810f03f2"
      },
      "execution_count": 18,
      "outputs": [
        {
          "output_type": "execute_result",
          "data": {
            "text/plain": [
              "(6, 11)"
            ]
          },
          "metadata": {},
          "execution_count": 18
        }
      ]
    },
    {
      "cell_type": "code",
      "source": [
        "print('Dimensões antes de descartar linhas duplicadas: ' + str(df.shape))\n",
        "df = df.drop(df[df.duplicated()].index)\n",
        "print('Dimensões após eliminar linhas duplicadas: ' + str(df.shape))"
      ],
      "metadata": {
        "colab": {
          "base_uri": "https://localhost:8080/"
        },
        "id": "Ez5okgnAPAYu",
        "outputId": "414157d5-cc16-4330-b526-aa32457c05e7"
      },
      "execution_count": 19,
      "outputs": [
        {
          "output_type": "stream",
          "name": "stdout",
          "text": [
            "Dimensões antes de descartar linhas duplicadas: (178031, 11)\n",
            "Dimensões após eliminar linhas duplicadas: (178025, 11)\n"
          ]
        }
      ]
    },
    {
      "cell_type": "code",
      "source": [
        "df[df.duplicated()]"
      ],
      "metadata": {
        "colab": {
          "base_uri": "https://localhost:8080/",
          "height": 48
        },
        "id": "YuT8rGh_RFFl",
        "outputId": "4519e76f-fd6c-4597-a999-385a5f166264"
      },
      "execution_count": 20,
      "outputs": [
        {
          "output_type": "execute_result",
          "data": {
            "text/html": [
              "\n",
              "  <div id=\"df-bf6bafd6-44a9-4c60-83ce-d379730b7f60\">\n",
              "    <div class=\"colab-df-container\">\n",
              "      <div>\n",
              "<style scoped>\n",
              "    .dataframe tbody tr th:only-of-type {\n",
              "        vertical-align: middle;\n",
              "    }\n",
              "\n",
              "    .dataframe tbody tr th {\n",
              "        vertical-align: top;\n",
              "    }\n",
              "\n",
              "    .dataframe thead th {\n",
              "        text-align: right;\n",
              "    }\n",
              "</style>\n",
              "<table border=\"1\" class=\"dataframe\">\n",
              "  <thead>\n",
              "    <tr style=\"text-align: right;\">\n",
              "      <th></th>\n",
              "      <th>Attack category</th>\n",
              "      <th>Attack subcategory</th>\n",
              "      <th>Protocol</th>\n",
              "      <th>Source IP</th>\n",
              "      <th>Source Port</th>\n",
              "      <th>Destination IP</th>\n",
              "      <th>Destination Port</th>\n",
              "      <th>Attack Name</th>\n",
              "      <th>Attack Reference</th>\n",
              "      <th>Start time</th>\n",
              "      <th>Last time</th>\n",
              "    </tr>\n",
              "  </thead>\n",
              "  <tbody>\n",
              "  </tbody>\n",
              "</table>\n",
              "</div>\n",
              "      <button class=\"colab-df-convert\" onclick=\"convertToInteractive('df-bf6bafd6-44a9-4c60-83ce-d379730b7f60')\"\n",
              "              title=\"Convert this dataframe to an interactive table.\"\n",
              "              style=\"display:none;\">\n",
              "        \n",
              "  <svg xmlns=\"http://www.w3.org/2000/svg\" height=\"24px\"viewBox=\"0 0 24 24\"\n",
              "       width=\"24px\">\n",
              "    <path d=\"M0 0h24v24H0V0z\" fill=\"none\"/>\n",
              "    <path d=\"M18.56 5.44l.94 2.06.94-2.06 2.06-.94-2.06-.94-.94-2.06-.94 2.06-2.06.94zm-11 1L8.5 8.5l.94-2.06 2.06-.94-2.06-.94L8.5 2.5l-.94 2.06-2.06.94zm10 10l.94 2.06.94-2.06 2.06-.94-2.06-.94-.94-2.06-.94 2.06-2.06.94z\"/><path d=\"M17.41 7.96l-1.37-1.37c-.4-.4-.92-.59-1.43-.59-.52 0-1.04.2-1.43.59L10.3 9.45l-7.72 7.72c-.78.78-.78 2.05 0 2.83L4 21.41c.39.39.9.59 1.41.59.51 0 1.02-.2 1.41-.59l7.78-7.78 2.81-2.81c.8-.78.8-2.07 0-2.86zM5.41 20L4 18.59l7.72-7.72 1.47 1.35L5.41 20z\"/>\n",
              "  </svg>\n",
              "      </button>\n",
              "      \n",
              "  <style>\n",
              "    .colab-df-container {\n",
              "      display:flex;\n",
              "      flex-wrap:wrap;\n",
              "      gap: 12px;\n",
              "    }\n",
              "\n",
              "    .colab-df-convert {\n",
              "      background-color: #E8F0FE;\n",
              "      border: none;\n",
              "      border-radius: 50%;\n",
              "      cursor: pointer;\n",
              "      display: none;\n",
              "      fill: #1967D2;\n",
              "      height: 32px;\n",
              "      padding: 0 0 0 0;\n",
              "      width: 32px;\n",
              "    }\n",
              "\n",
              "    .colab-df-convert:hover {\n",
              "      background-color: #E2EBFA;\n",
              "      box-shadow: 0px 1px 2px rgba(60, 64, 67, 0.3), 0px 1px 3px 1px rgba(60, 64, 67, 0.15);\n",
              "      fill: #174EA6;\n",
              "    }\n",
              "\n",
              "    [theme=dark] .colab-df-convert {\n",
              "      background-color: #3B4455;\n",
              "      fill: #D2E3FC;\n",
              "    }\n",
              "\n",
              "    [theme=dark] .colab-df-convert:hover {\n",
              "      background-color: #434B5C;\n",
              "      box-shadow: 0px 1px 3px 1px rgba(0, 0, 0, 0.15);\n",
              "      filter: drop-shadow(0px 1px 2px rgba(0, 0, 0, 0.3));\n",
              "      fill: #FFFFFF;\n",
              "    }\n",
              "  </style>\n",
              "\n",
              "      <script>\n",
              "        const buttonEl =\n",
              "          document.querySelector('#df-bf6bafd6-44a9-4c60-83ce-d379730b7f60 button.colab-df-convert');\n",
              "        buttonEl.style.display =\n",
              "          google.colab.kernel.accessAllowed ? 'block' : 'none';\n",
              "\n",
              "        async function convertToInteractive(key) {\n",
              "          const element = document.querySelector('#df-bf6bafd6-44a9-4c60-83ce-d379730b7f60');\n",
              "          const dataTable =\n",
              "            await google.colab.kernel.invokeFunction('convertToInteractive',\n",
              "                                                     [key], {});\n",
              "          if (!dataTable) return;\n",
              "\n",
              "          const docLinkHtml = 'Like what you see? Visit the ' +\n",
              "            '<a target=\"_blank\" href=https://colab.research.google.com/notebooks/data_table.ipynb>data table notebook</a>'\n",
              "            + ' to learn more about interactive tables.';\n",
              "          element.innerHTML = '';\n",
              "          dataTable['output_type'] = 'display_data';\n",
              "          await google.colab.output.renderOutput(dataTable, element);\n",
              "          const docLink = document.createElement('div');\n",
              "          docLink.innerHTML = docLinkHtml;\n",
              "          element.appendChild(docLink);\n",
              "        }\n",
              "      </script>\n",
              "    </div>\n",
              "  </div>\n",
              "  "
            ],
            "text/plain": [
              "Empty DataFrame\n",
              "Columns: [Attack category, Attack subcategory, Protocol, Source IP, Source Port, Destination IP, Destination Port, Attack Name, Attack Reference, Start time, Last time]\n",
              "Index: []"
            ]
          },
          "metadata": {},
          "execution_count": 20
        }
      ]
    },
    {
      "cell_type": "code",
      "source": [
        ""
      ],
      "metadata": {
        "id": "os10yE23RFC6"
      },
      "execution_count": null,
      "outputs": []
    },
    {
      "cell_type": "code",
      "source": [
        ""
      ],
      "metadata": {
        "id": "HPhp-6uhRFAV"
      },
      "execution_count": null,
      "outputs": []
    },
    {
      "cell_type": "code",
      "source": [
        ""
      ],
      "metadata": {
        "id": "6LVA_ZC8RE91"
      },
      "execution_count": null,
      "outputs": []
    }
  ]
}